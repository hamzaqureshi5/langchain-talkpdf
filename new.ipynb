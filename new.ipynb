{
 "cells": [
  {
   "cell_type": "code",
   "execution_count": 1,
   "metadata": {},
   "outputs": [],
   "source": [
    "import os\n",
    "import openai\n",
    "import sys\n",
    "sys.path.append('../..')\n",
    "\n",
    "from dotenv import load_dotenv, find_dotenv\n",
    "_ = load_dotenv(find_dotenv()) # read local .env file\n",
    "\n",
    "openai.api_key  = os.environ['OPENAI_API_KEY']"
   ]
  },
  {
   "cell_type": "code",
   "execution_count": 2,
   "metadata": {},
   "outputs": [],
   "source": [
    "from langchain.document_loaders import PyPDFLoader\n",
    "\n",
    "# Load PDF\n",
    "loaders = [\n",
    "    # Duplicate documents on purpose - messy data\n",
    "    PyPDFLoader(\"temp.pdf\")\n",
    "#    PyPDFLoader(\"docs/cs229_lectures/MachineLearning-Lecture01.pdf\"),\n",
    "#    PyPDFLoader(\"docs/cs229_lectures/MachineLearning-Lecture02.pdf\"),\n",
    "#    PyPDFLoader(\"docs/cs229_lectures/MachineLearning-Lecture03.pdf\")\n",
    "]\n",
    "docs = []\n",
    "for loader in loaders:\n",
    "    docs.extend(loader.load())"
   ]
  },
  {
   "cell_type": "code",
   "execution_count": 3,
   "metadata": {},
   "outputs": [],
   "source": [
    "# Split\n",
    "from langchain.text_splitter import RecursiveCharacterTextSplitter\n",
    "text_splitter = RecursiveCharacterTextSplitter(\n",
    "    chunk_size = 1500,\n",
    "    chunk_overlap = 150\n",
    ")"
   ]
  },
  {
   "cell_type": "code",
   "execution_count": 4,
   "metadata": {},
   "outputs": [],
   "source": [
    "splits = text_splitter.split_documents(docs)\n"
   ]
  },
  {
   "cell_type": "code",
   "execution_count": 5,
   "metadata": {},
   "outputs": [
    {
     "data": {
      "text/plain": [
       "27"
      ]
     },
     "execution_count": 5,
     "metadata": {},
     "output_type": "execute_result"
    }
   ],
   "source": [
    "len(splits)"
   ]
  },
  {
   "cell_type": "code",
   "execution_count": 6,
   "metadata": {},
   "outputs": [],
   "source": [
    "from langchain_community.embeddings import JinaEmbeddings\n",
    "#KEY=\"jina_19d1fe674e6a494eb4339d0b404bb83bpfQ-RUo8zBdNECI0s3ZlWf1bf8Qb\"\n",
    "KEY =\"jina_cca4cdb9735f4431a1092347b873d831lOGCSgReRJ5gn0JpGB_PgMqsb2xT\"\n",
    "embedding = JinaEmbeddings(jina_api_key = KEY, model_name=\"jina-embeddings-v2-base-en\")"
   ]
  },
  {
   "cell_type": "code",
   "execution_count": 7,
   "metadata": {},
   "outputs": [],
   "source": [
    "from langchain.vectorstores import Chroma"
   ]
  },
  {
   "cell_type": "code",
   "execution_count": 9,
   "metadata": {},
   "outputs": [],
   "source": [
    "persist_directory = 'docs/chroma1/'\n",
    "vectordb = Chroma.from_documents(\n",
    "    documents=splits,\n",
    "    embedding=embedding,\n",
    "    persist_directory=persist_directory\n",
    ")"
   ]
  },
  {
   "cell_type": "code",
   "execution_count": 10,
   "metadata": {},
   "outputs": [
    {
     "name": "stdout",
     "output_type": "stream",
     "text": [
      "27\n"
     ]
    }
   ],
   "source": [
    "print(vectordb._collection.count())"
   ]
  },
  {
   "cell_type": "code",
   "execution_count": 11,
   "metadata": {},
   "outputs": [
    {
     "name": "stdout",
     "output_type": "stream",
     "text": [
      "[Document(page_content='IMPORTANT NOTICE AND DISCLAIMER\\nTI PROVIDES TECHNICAL AND RELIABILITY DATA (INCLUDING DATA SHEETS), DESIGN RESOURCES (INCLUDING REFERENCE \\nDESIGNS), APPLICATION OR OTHER DESIGN ADVICE, WEB TOOLS, SAFETY INFORMATION, AND OTHER RESOURCES “AS IS” \\nAND WITH ALL FAULTS, AND DISCLAIMS ALL WARRANTIES, EXPRESS AND IMPLIED, INCLUDING WITHOUT LIMITATION ANY \\nIMPLIED WARRANTIES OF MERCHANTABILIT Y, FITNESS FOR A PARTICULAR PURPOSE OR NON-INFRINGEMENT OF THIRD \\nPARTY INTELLECTUAL PROPERTY RIGHTS.\\nThese resources are intended for skilled developers designing with TI products. Y ou are solely responsible for (1) selecting the appropriate \\nTI products for your application, (2) designing, validating and testing your application, and (3) ensuring your application meets applicable \\nstandards, and any other safety, security, regulatory or other requirements.\\nThese resources are subject to change without notice. TI grants you permission to use these resources only for development of an \\napplication that uses the TI products described in the resource. Other reproduction and display of these resources is prohibited. No license \\nis granted to any other TI intellectual property right or to any third party intellectual property right. TI disclaims responsibility for , and you \\nwill fully indemnify TI and its representatives against, any claims, damages, costs, losses, and liabilities arising out of your use of these \\nresources.', metadata={'page': 16, 'source': 'temp.pdf'}), Document(page_content='LM741\\nSNOSC25D –MAY 1998 –REVISED OCTOBER 2015 www.ti.com\\n11Device andDocumentation Support\\n11.1 Community Resources\\nThe following links connect toTIcommunity resources. Linked contents areprovided \"AS IS\"bytherespective\\ncontributors. They donotconstitute TIspecifications anddonotnecessarily reflect TI\\'sviews; seeTI\\'sTerms of\\nUse.\\nTIE2E™Online Community TI\\'s Engineer-to-Engineer (E2E) Community. Created tofoster collaboration\\namong engineers. Ate2e.ti.com, youcanaskquestions, share knowledge, explore ideas andhelp\\nsolve problems with fellow engineers.\\nDesign Support TI\\'s Design Support Quickly findhelpful E2E forums along with design support tools and\\ncontact information fortechnical support.\\n11.2 Trademarks\\nE2E isatrademark ofTexas Instruments.\\nAllother trademarks aretheproperty oftheir respective owners.\\n11.3 Electrostatic Discharge Caution\\nThese devices have limited built-in ESD protection. The leads should beshorted together orthedevice placed inconductive foam\\nduring storage orhandling toprevent electrostatic damage totheMOS gates.\\n11.4 Glossary\\nSLYZ022 —TIGlossary .\\nThis glossary listsandexplains terms, acronyms, anddefinitions.\\n12Mechanical, Packaging, andOrderable Information\\nThe following pages include mechanical, packaging, and orderable information. This information isthemost\\ncurrent data available forthedesignated devices. This data issubject tochange without notice and revision of', metadata={'page': 11, 'source': 'temp.pdf'}), Document(page_content='resources.\\nTI’s products are provided subject to TI’s Terms of Sale or other applicable terms available either on ti.com or provided in conjunction with \\nsuch TI products. TI’s provision of these resources does not expand or otherwise alter TI’s applicable warranties or warranty disclaimers for \\nTI products.\\nTI objects to and rejects any additional or different terms you may have proposed. IMPORTANT NOTICE\\nMailing Address: Texas Instruments, Post Office Box 655303, Dallas, Texas 75265\\nCopyright © 202 2, Texas Instruments Incorporated', metadata={'page': 16, 'source': 'temp.pdf'})]\n"
     ]
    }
   ],
   "source": [
    "question = \"is there an email i can ask for help\"\n",
    "docs = vectordb.similarity_search(question,k=3)\n",
    "print(docs)\n"
   ]
  },
  {
   "cell_type": "code",
   "execution_count": 12,
   "metadata": {},
   "outputs": [],
   "source": [
    "vectordb.persist()"
   ]
  },
  {
   "cell_type": "code",
   "execution_count": 13,
   "metadata": {},
   "outputs": [
    {
     "data": {
      "text/plain": [
       "3"
      ]
     },
     "execution_count": 13,
     "metadata": {},
     "output_type": "execute_result"
    }
   ],
   "source": [
    "question = \"What are major topics for this class?\"\n",
    "docs = vectordb.similarity_search(question,k=3)\n",
    "len(docs)"
   ]
  },
  {
   "cell_type": "code",
   "execution_count": 14,
   "metadata": {},
   "outputs": [
    {
     "name": "stdout",
     "output_type": "stream",
     "text": [
      "gpt-3.5-turbo\n"
     ]
    }
   ],
   "source": [
    "import datetime\n",
    "current_date = datetime.datetime.now().date()\n",
    "if current_date < datetime.date(2023, 9, 2):\n",
    "    llm_name = \"gpt-3.5-turbo-0301\"\n",
    "else:\n",
    "    llm_name = \"gpt-3.5-turbo\"\n",
    "print(llm_name)"
   ]
  },
  {
   "cell_type": "code",
   "execution_count": 15,
   "metadata": {},
   "outputs": [
    {
     "name": "stderr",
     "output_type": "stream",
     "text": [
      "c:\\Users\\hamza.qureshi\\AppData\\Local\\anaconda3\\envs\\chatBot\\Lib\\site-packages\\langchain_core\\_api\\deprecation.py:117: LangChainDeprecationWarning: The class `langchain_community.chat_models.openai.ChatOpenAI` was deprecated in langchain-community 0.0.10 and will be removed in 0.2.0. An updated version of the class exists in the langchain-openai package and should be used instead. To use it run `pip install -U langchain-openai` and import as `from langchain_openai import ChatOpenAI`.\n",
      "  warn_deprecated(\n"
     ]
    }
   ],
   "source": [
    "from langchain.chat_models import ChatOpenAI\n",
    "llm = ChatOpenAI(model_name=llm_name, temperature=0)"
   ]
  },
  {
   "cell_type": "code",
   "execution_count": 16,
   "metadata": {},
   "outputs": [],
   "source": [
    "from langchain.chains import RetrievalQA"
   ]
  },
  {
   "cell_type": "code",
   "execution_count": 24,
   "metadata": {},
   "outputs": [],
   "source": [
    "qa_chain = RetrievalQA.from_chain_type(\n",
    "    llm,\n",
    "    retriever=vectordb.as_retriever()\n",
    ")"
   ]
  },
  {
   "cell_type": "code",
   "execution_count": 26,
   "metadata": {},
   "outputs": [
    {
     "data": {
      "text/plain": [
       "'The name mentioned in this context is LM741.'"
      ]
     },
     "execution_count": 26,
     "metadata": {},
     "output_type": "execute_result"
    }
   ],
   "source": [
    "question =\"what is name mentioned in this?\"\n",
    "result = qa_chain({\"query\": question})\n",
    "result[\"result\"]"
   ]
  },
  {
   "cell_type": "code",
   "execution_count": 20,
   "metadata": {},
   "outputs": [
    {
     "data": {
      "text/plain": [
       "'Based on the provided context, it is not clear what class or subject is being referred to. Therefore, I cannot determine the major topics for this class.'"
      ]
     },
     "execution_count": 20,
     "metadata": {},
     "output_type": "execute_result"
    }
   ],
   "source": []
  }
 ],
 "metadata": {
  "kernelspec": {
   "display_name": "chatBot",
   "language": "python",
   "name": "python3"
  },
  "language_info": {
   "codemirror_mode": {
    "name": "ipython",
    "version": 3
   },
   "file_extension": ".py",
   "mimetype": "text/x-python",
   "name": "python",
   "nbconvert_exporter": "python",
   "pygments_lexer": "ipython3",
   "version": "3.11.7"
  }
 },
 "nbformat": 4,
 "nbformat_minor": 2
}
